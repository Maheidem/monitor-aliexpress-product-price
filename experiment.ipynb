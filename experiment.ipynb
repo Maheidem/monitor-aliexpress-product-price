{
 "cells": [
  {
   "cell_type": "code",
   "execution_count": 2,
   "metadata": {},
   "outputs": [],
   "source": [
    "# Import modules\n",
    "from selenium import webdriver\n",
    "from selenium.webdriver.common.by import By\n",
    "import smtplib\n",
    "import time\n",
    "import configparser\n",
    "import pandas as pd\n",
    "import uuid\n",
    "from datetime import datetime\n",
    "import json\n",
    "import os"
   ]
  },
  {
   "cell_type": "code",
   "execution_count": 3,
   "metadata": {},
   "outputs": [],
   "source": [
    "# Create webdriver object\n",
    "options = webdriver.ChromeOptions()\n",
    "options.add_argument('headless')\n",
    "driver = webdriver.Chrome(options=options)"
   ]
  },
  {
   "cell_type": "code",
   "execution_count": 9,
   "metadata": {},
   "outputs": [],
   "source": [
    "# Read email username and password from configuration file\n",
    "config = configparser.ConfigParser()\n",
    "config.read('/mnt/c/Users/mahei/OneDrive/Documentos/Python/monitor-aliexpress-product-price/config.cfg')\n",
    "sender_email = config.get('Email', 'username')\n",
    "sender_password = config.get('Email', 'password')"
   ]
  },
  {
   "cell_type": "code",
   "execution_count": 18,
   "metadata": {},
   "outputs": [],
   "source": [
    "# Define function to check price\n",
    "def check_price(products):\n",
    "    prices = pd.DataFrame(columns=['id', 'product', 'url', 'price', 'datetime'])\n",
    "    for product in products:\n",
    "        urls = products[product][\"urls\"]\n",
    "        desired_price = products[product][\"desired_price\"]\n",
    "        for url in urls:\n",
    "            # Load product page\n",
    "            driver.get(url)\n",
    "            print(f\"Checking price for {product} at {url}\")\n",
    "            # Find price element\n",
    "            try:\n",
    "                price_element = driver.find_element(By.CLASS_NAME, 'uniform-banner-box-price')\n",
    "            except:\n",
    "                price_element = driver.find_element(By.CLASS_NAME, 'product-price-value')\n",
    "            # Get price text and convert to float\n",
    "            price_text = price_element.text.replace(\"R$ \", \"\").replace('.', '').replace(',', '.')\n",
    "            price = float(price_text)\n",
    "            # Add price and datetime to DataFrame\n",
    "            now = datetime.now()\n",
    "            prices = pd.concat([prices, pd.DataFrame({'id': [str(uuid.uuid4())], 'product': [product], 'url': [url], 'price': [price], 'datetime': [now]})], ignore_index=True)\n",
    "    \n",
    "    # Write prices to parquet file\n",
    "    file_path = '/mnt/c/Users/mahei/OneDrive/Documentos/Python/monitor-aliexpress-product-price/prices.parquet'\n",
    "    if not os.path.isfile(file_path):\n",
    "        prices.to_parquet(file_path, engine='fastparquet')\n",
    "    else:\n",
    "        prices.to_parquet(file_path, engine='fastparquet', append=True)\n",
    "    \n",
    "    # Return DataFrame of prices\n",
    "    return prices"
   ]
  },
  {
   "cell_type": "code",
   "execution_count": 30,
   "metadata": {},
   "outputs": [],
   "source": [
    "def check_previous_price(lowest_price, product):\n",
    "    # Read previous prices from parquet file\n",
    "    file_path = '/mnt/c/Users/mahei/OneDrive/Documentos/Python/monitor-aliexpress-product-price/prices.parquet'\n",
    "    if os.path.isfile(file_path):\n",
    "        previous_prices = pd.read_parquet(file_path, engine='fastparquet')\n",
    "        previous_prices = previous_prices[previous_prices['product'] == product]\n",
    "    else:\n",
    "        return None\n",
    "    # Find previous lowest price for product\n",
    "    previous_lowest_price = previous_prices[previous_prices['price'] < lowest_price].sort_values('datetime', ascending=False).head(1)\n",
    "    if previous_lowest_price.empty:\n",
    "        return None\n",
    "    else:\n",
    "        url = previous_lowest_price['url'].iloc[0]\n",
    "        price = previous_lowest_price['price'].iloc[0]\n",
    "        return {'product': product, 'url': url, 'price': price}"
   ]
  },
  {
   "cell_type": "code",
   "execution_count": 14,
   "metadata": {},
   "outputs": [],
   "source": [
    "def send_email_alert(prices, products):\n",
    "    message = \"Subject: Price Alert\\n\\n\"\n",
    "    for product, group in prices.groupby('product'):\n",
    "        lowest_price = group['price'].min()\n",
    "        previous_price = check_previous_price(lowest_price, product)\n",
    "        for index, row in group.iterrows():\n",
    "            price = row[\"price\"]\n",
    "            url = row[\"url\"]\n",
    "            if previous_price is None or price < previous_price['price']:\n",
    "                message += f\"The {product} you are tracking is now R$ {price}.\\n{url}\\n\\n\"\n",
    "    if \"Price Alert\" not in message:\n",
    "        return\n",
    "    print(\"Sending email alert...\")\n",
    "    # Create SMTP object\n",
    "    server = smtplib.SMTP(\"smtp.gmail.com\", 587)\n",
    "    # Start TLS encryption\n",
    "    server.starttls()\n",
    "    # Login to email account\n",
    "    server.login(sender_email, sender_password)\n",
    "    # Send email message\n",
    "    server.sendmail(sender_email, sender_email, message)\n",
    "    # Quit SMTP object\n",
    "    server.quit()"
   ]
  },
  {
   "cell_type": "code",
   "execution_count": 16,
   "metadata": {},
   "outputs": [],
   "source": [
    "with open('/mnt/c/Users/mahei/OneDrive/Documentos/Python/monitor-aliexpress-product-price/products.json', 'r') as f:\n",
    "    products = json.load(f)"
   ]
  },
  {
   "cell_type": "code",
   "execution_count": 19,
   "metadata": {},
   "outputs": [
    {
     "name": "stdout",
     "output_type": "stream",
     "text": [
      "Checking price for Ryzen 9 5950X at https://pt.aliexpress.com/item/1005003359522996.html\n",
      "Checking price for Ryzen 9 5950X at https://pt.aliexpress.com/item/1005004667422776.html\n",
      "Checking price for Ryzen 9 5950X at https://pt.aliexpress.com/item/1005004643544273.html\n",
      "Checking price for Ryzen 9 5950X at https://pt.aliexpress.com/item/1005004767710064.html\n",
      "Checking price for Ryzen 9 5950X at https://pt.aliexpress.com/item/1005003391597856.html\n",
      "Checking price for Ryzen 9 5950X at https://pt.aliexpress.com/item/1005003391612933.html\n",
      "Checking price for Ryzen 9 5950X at https://pt.aliexpress.com/item/1005003391623760.html\n",
      "Checking price for Ryzen 9 5950X at https://pt.aliexpress.com/item/1005004586709793.html\n",
      "Checking price for Ryzen 9 5950X at https://pt.aliexpress.com/item/1005004305762942.html\n"
     ]
    }
   ],
   "source": [
    "current_prices = check_price(products)"
   ]
  },
  {
   "cell_type": "code",
   "execution_count": 29,
   "metadata": {},
   "outputs": [
    {
     "name": "stdout",
     "output_type": "stream",
     "text": [
      "2640.06 Ryzen 9 5950X\n"
     ]
    }
   ],
   "source": [
    "for product, group in current_prices.groupby('product'):\n",
    "        lowest_price = group['price'].min()\n",
    "        print(lowest_price,product)\n",
    "        # previous_price = check_previous_price(lowest_price, product)"
   ]
  },
  {
   "cell_type": "code",
   "execution_count": 37,
   "metadata": {},
   "outputs": [],
   "source": [
    "lowest_price = 2900.00"
   ]
  },
  {
   "cell_type": "code",
   "execution_count": 31,
   "metadata": {},
   "outputs": [],
   "source": [
    "file_path = '/mnt/c/Users/mahei/OneDrive/Documentos/Python/monitor-aliexpress-product-price/prices.parquet'\n",
    "if os.path.isfile(file_path):\n",
    "    previous_prices = pd.read_parquet(file_path, engine='fastparquet')\n",
    "    previous_prices = previous_prices[previous_prices['product'] == product]"
   ]
  },
  {
   "cell_type": "code",
   "execution_count": 40,
   "metadata": {},
   "outputs": [
    {
     "data": {
      "text/html": [
       "<div>\n",
       "<style scoped>\n",
       "    .dataframe tbody tr th:only-of-type {\n",
       "        vertical-align: middle;\n",
       "    }\n",
       "\n",
       "    .dataframe tbody tr th {\n",
       "        vertical-align: top;\n",
       "    }\n",
       "\n",
       "    .dataframe thead th {\n",
       "        text-align: right;\n",
       "    }\n",
       "</style>\n",
       "<table border=\"1\" class=\"dataframe\">\n",
       "  <thead>\n",
       "    <tr style=\"text-align: right;\">\n",
       "      <th></th>\n",
       "      <th>id</th>\n",
       "      <th>product</th>\n",
       "      <th>url</th>\n",
       "      <th>price</th>\n",
       "      <th>datetime</th>\n",
       "    </tr>\n",
       "  </thead>\n",
       "  <tbody>\n",
       "    <tr>\n",
       "      <th>35</th>\n",
       "      <td>c88bd9a2-5635-49bd-8423-48c2ebe86479</td>\n",
       "      <td>Ryzen 9 5950X</td>\n",
       "      <td>https://pt.aliexpress.com/item/100500430576294...</td>\n",
       "      <td>2780.83</td>\n",
       "      <td>2023-03-02 09:46:46.037554</td>\n",
       "    </tr>\n",
       "  </tbody>\n",
       "</table>\n",
       "</div>"
      ],
      "text/plain": [
       "                                      id        product  \\\n",
       "35  c88bd9a2-5635-49bd-8423-48c2ebe86479  Ryzen 9 5950X   \n",
       "\n",
       "                                                  url    price  \\\n",
       "35  https://pt.aliexpress.com/item/100500430576294...  2780.83   \n",
       "\n",
       "                     datetime  \n",
       "35 2023-03-02 09:46:46.037554  "
      ]
     },
     "execution_count": 40,
     "metadata": {},
     "output_type": "execute_result"
    }
   ],
   "source": [
    "previous_prices[previous_prices['price'] < lowest_price].sort_values('datetime', ascending=False).head(1)"
   ]
  },
  {
   "cell_type": "code",
   "execution_count": null,
   "metadata": {},
   "outputs": [],
   "source": []
  },
  {
   "cell_type": "code",
   "execution_count": 36,
   "metadata": {},
   "outputs": [
    {
     "data": {
      "text/html": [
       "<div>\n",
       "<style scoped>\n",
       "    .dataframe tbody tr th:only-of-type {\n",
       "        vertical-align: middle;\n",
       "    }\n",
       "\n",
       "    .dataframe tbody tr th {\n",
       "        vertical-align: top;\n",
       "    }\n",
       "\n",
       "    .dataframe thead th {\n",
       "        text-align: right;\n",
       "    }\n",
       "</style>\n",
       "<table border=\"1\" class=\"dataframe\">\n",
       "  <thead>\n",
       "    <tr style=\"text-align: right;\">\n",
       "      <th></th>\n",
       "      <th>id</th>\n",
       "      <th>product</th>\n",
       "      <th>url</th>\n",
       "      <th>price</th>\n",
       "      <th>datetime</th>\n",
       "    </tr>\n",
       "  </thead>\n",
       "  <tbody>\n",
       "  </tbody>\n",
       "</table>\n",
       "</div>"
      ],
      "text/plain": [
       "Empty DataFrame\n",
       "Columns: [id, product, url, price, datetime]\n",
       "Index: []"
      ]
     },
     "execution_count": 36,
     "metadata": {},
     "output_type": "execute_result"
    }
   ],
   "source": [
    "previous_prices[previous_prices['price'] < lowest_price]"
   ]
  },
  {
   "cell_type": "code",
   "execution_count": null,
   "metadata": {},
   "outputs": [],
   "source": [
    "if previous_lowest_price.empty:\n",
    "    return None\n",
    "else:\n",
    "    url = previous_lowest_price['url'].iloc[0]\n",
    "    price = previous_lowest_price['price'].iloc[0]\n",
    "    return {'product': product, 'url': url, 'price': price}"
   ]
  },
  {
   "cell_type": "code",
   "execution_count": 27,
   "metadata": {},
   "outputs": [
    {
     "name": "stdout",
     "output_type": "stream",
     "text": [
      "2640.06\n"
     ]
    }
   ],
   "source": [
    "for product, group in current_prices[['product','price']].groupby('product').min('price').groupby('product'):\n",
    "    print(float(group['price']))"
   ]
  },
  {
   "cell_type": "code",
   "execution_count": null,
   "metadata": {},
   "outputs": [],
   "source": [
    "send_email_alert(current_prices,products)\n",
    "print(\"Waiting for an hour before checking prices again...\")\n",
    "time.sleep(5) # Wait for an hour"
   ]
  }
 ],
 "metadata": {
  "kernelspec": {
   "display_name": "pricemonitor",
   "language": "python",
   "name": "python3"
  },
  "language_info": {
   "codemirror_mode": {
    "name": "ipython",
    "version": 3
   },
   "file_extension": ".py",
   "mimetype": "text/x-python",
   "name": "python",
   "nbconvert_exporter": "python",
   "pygments_lexer": "ipython3",
   "version": "3.8.16"
  },
  "orig_nbformat": 4,
  "vscode": {
   "interpreter": {
    "hash": "52454d7be86bda679080b7b12c857a8c6a0abb41494e177500f5daf0647c3367"
   }
  }
 },
 "nbformat": 4,
 "nbformat_minor": 2
}
